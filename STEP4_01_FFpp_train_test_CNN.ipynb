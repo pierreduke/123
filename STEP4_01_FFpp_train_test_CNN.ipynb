{
  "cells": [
    {
      "cell_type": "markdown",
      "metadata": {
        "id": "view-in-github",
        "colab_type": "text"
      },
      "source": [
        "<a href=\"https://colab.research.google.com/github/pierreduke/CNN_DF_Saved/blob/main/STEP4_01_FFpp_train_test_CNN.ipynb\" target=\"_parent\"><img src=\"https://colab.research.google.com/assets/colab-badge.svg\" alt=\"Open In Colab\"/></a>"
      ]
    },
    {
      "cell_type": "markdown",
      "metadata": {
        "id": "l4pO823VtSDb"
      },
      "source": [
        "**Kết nối Google Colab với Drive và cài đặt các thư viện cần thiết**"
      ]
    },
    {
      "cell_type": "code",
      "execution_count": null,
      "metadata": {
        "colab": {
          "base_uri": "https://localhost:8080/"
        },
        "id": "X9Cx5hQDsLhq",
        "outputId": "cbc0cc3e-3e30-44aa-a3c2-9d42118f2504"
      },
      "outputs": [
        {
          "output_type": "stream",
          "name": "stdout",
          "text": [
            "Mounted at /content/drive\n"
          ]
        }
      ],
      "source": [
        "from google.colab import drive\n",
        "drive._mount('/content/drive')"
      ]
    },
    {
      "cell_type": "code",
      "execution_count": null,
      "metadata": {
        "colab": {
          "base_uri": "https://localhost:8080/"
        },
        "id": "F-GLkxMhnazm",
        "outputId": "e7b780f1-2727-43aa-fa12-4affaacd219e"
      },
      "outputs": [
        {
          "output_type": "stream",
          "name": "stdout",
          "text": [
            "Collecting git+https://github.com/qubvel/efficientnet\n",
            "  Cloning https://github.com/qubvel/efficientnet to /tmp/pip-req-build-x1vk5ssh\n",
            "  Running command git clone -q https://github.com/qubvel/efficientnet /tmp/pip-req-build-x1vk5ssh\n",
            "Collecting keras_applications<=1.0.8,>=1.0.7\n",
            "  Downloading Keras_Applications-1.0.8-py3-none-any.whl (50 kB)\n",
            "\u001b[K     |████████████████████████████████| 50 kB 2.8 MB/s \n",
            "\u001b[?25hRequirement already satisfied: scikit-image in /usr/local/lib/python3.7/dist-packages (from efficientnet==1.1.1) (0.18.3)\n",
            "Requirement already satisfied: h5py in /usr/local/lib/python3.7/dist-packages (from keras_applications<=1.0.8,>=1.0.7->efficientnet==1.1.1) (3.1.0)\n",
            "Requirement already satisfied: numpy>=1.9.1 in /usr/local/lib/python3.7/dist-packages (from keras_applications<=1.0.8,>=1.0.7->efficientnet==1.1.1) (1.19.5)\n",
            "Requirement already satisfied: cached-property in /usr/local/lib/python3.7/dist-packages (from h5py->keras_applications<=1.0.8,>=1.0.7->efficientnet==1.1.1) (1.5.2)\n",
            "Requirement already satisfied: tifffile>=2019.7.26 in /usr/local/lib/python3.7/dist-packages (from scikit-image->efficientnet==1.1.1) (2021.11.2)\n",
            "Requirement already satisfied: imageio>=2.3.0 in /usr/local/lib/python3.7/dist-packages (from scikit-image->efficientnet==1.1.1) (2.4.1)\n",
            "Requirement already satisfied: PyWavelets>=1.1.1 in /usr/local/lib/python3.7/dist-packages (from scikit-image->efficientnet==1.1.1) (1.2.0)\n",
            "Requirement already satisfied: scipy>=1.0.1 in /usr/local/lib/python3.7/dist-packages (from scikit-image->efficientnet==1.1.1) (1.4.1)\n",
            "Requirement already satisfied: pillow!=7.1.0,!=7.1.1,>=4.3.0 in /usr/local/lib/python3.7/dist-packages (from scikit-image->efficientnet==1.1.1) (7.1.2)\n",
            "Requirement already satisfied: matplotlib!=3.0.0,>=2.0.0 in /usr/local/lib/python3.7/dist-packages (from scikit-image->efficientnet==1.1.1) (3.2.2)\n",
            "Requirement already satisfied: networkx>=2.0 in /usr/local/lib/python3.7/dist-packages (from scikit-image->efficientnet==1.1.1) (2.6.3)\n",
            "Requirement already satisfied: python-dateutil>=2.1 in /usr/local/lib/python3.7/dist-packages (from matplotlib!=3.0.0,>=2.0.0->scikit-image->efficientnet==1.1.1) (2.8.2)\n",
            "Requirement already satisfied: cycler>=0.10 in /usr/local/lib/python3.7/dist-packages (from matplotlib!=3.0.0,>=2.0.0->scikit-image->efficientnet==1.1.1) (0.11.0)\n",
            "Requirement already satisfied: kiwisolver>=1.0.1 in /usr/local/lib/python3.7/dist-packages (from matplotlib!=3.0.0,>=2.0.0->scikit-image->efficientnet==1.1.1) (1.3.2)\n",
            "Requirement already satisfied: pyparsing!=2.0.4,!=2.1.2,!=2.1.6,>=2.0.1 in /usr/local/lib/python3.7/dist-packages (from matplotlib!=3.0.0,>=2.0.0->scikit-image->efficientnet==1.1.1) (3.0.6)\n",
            "Requirement already satisfied: six>=1.5 in /usr/local/lib/python3.7/dist-packages (from python-dateutil>=2.1->matplotlib!=3.0.0,>=2.0.0->scikit-image->efficientnet==1.1.1) (1.15.0)\n",
            "Building wheels for collected packages: efficientnet\n",
            "  Building wheel for efficientnet (setup.py) ... \u001b[?25l\u001b[?25hdone\n",
            "  Created wheel for efficientnet: filename=efficientnet-1.1.1-py3-none-any.whl size=18447 sha256=337c26612b7309c7f344af379b4f1eaad84d9312f3cc2226a9b87edadb4d3743\n",
            "  Stored in directory: /tmp/pip-ephem-wheel-cache-jy61im49/wheels/11/69/85/814d64d694c96db0eef17b718042d644a1e54f113920481920\n",
            "Successfully built efficientnet\n",
            "Installing collected packages: keras-applications, efficientnet\n",
            "Successfully installed efficientnet-1.1.1 keras-applications-1.0.8\n",
            "Collecting tensorflow-addons\n",
            "  Downloading tensorflow_addons-0.15.0-cp37-cp37m-manylinux_2_12_x86_64.manylinux2010_x86_64.whl (1.1 MB)\n",
            "\u001b[K     |████████████████████████████████| 1.1 MB 5.2 MB/s \n",
            "\u001b[?25hRequirement already satisfied: typeguard>=2.7 in /usr/local/lib/python3.7/dist-packages (from tensorflow-addons) (2.7.1)\n",
            "Installing collected packages: tensorflow-addons\n",
            "Successfully installed tensorflow-addons-0.15.0\n",
            "Collecting git+https://github.com/qubvel/classification_models.git\n",
            "  Cloning https://github.com/qubvel/classification_models.git to /tmp/pip-req-build-q_esxh5d\n",
            "  Running command git clone -q https://github.com/qubvel/classification_models.git /tmp/pip-req-build-q_esxh5d\n",
            "  Running command git submodule update --init --recursive -q\n",
            "Requirement already satisfied: keras_applications<=1.0.8,>=1.0.7 in /usr/local/lib/python3.7/dist-packages (from image-classifiers==1.0.0) (1.0.8)\n",
            "Requirement already satisfied: h5py in /usr/local/lib/python3.7/dist-packages (from keras_applications<=1.0.8,>=1.0.7->image-classifiers==1.0.0) (3.1.0)\n",
            "Requirement already satisfied: numpy>=1.9.1 in /usr/local/lib/python3.7/dist-packages (from keras_applications<=1.0.8,>=1.0.7->image-classifiers==1.0.0) (1.19.5)\n",
            "Requirement already satisfied: cached-property in /usr/local/lib/python3.7/dist-packages (from h5py->keras_applications<=1.0.8,>=1.0.7->image-classifiers==1.0.0) (1.5.2)\n",
            "Building wheels for collected packages: image-classifiers\n",
            "  Building wheel for image-classifiers (setup.py) ... \u001b[?25l\u001b[?25hdone\n",
            "  Created wheel for image-classifiers: filename=image_classifiers-1.0.0-py3-none-any.whl size=20045 sha256=9efb0d510fb33250eb7a4ca5ff7dafc15a3d896884180a983e58d6aa53cde80a\n",
            "  Stored in directory: /tmp/pip-ephem-wheel-cache-n12nn3nt/wheels/0b/96/56/27b17c903efc647c51e4f364bfc20aa67f8d3dccad63c4fb4e\n",
            "Successfully built image-classifiers\n",
            "Installing collected packages: image-classifiers\n",
            "Successfully installed image-classifiers-1.0.0\n"
          ]
        }
      ],
      "source": [
        "! pip install -U git+https://github.com/qubvel/efficientnet\n",
        "! pip install tensorflow-addons\n",
        "! pip install git+https://github.com/qubvel/classification_models.git"
      ]
    },
    {
      "cell_type": "markdown",
      "metadata": {
        "id": "E9TUhufUptzb"
      },
      "source": [
        "**Giải nén tệp dữ liệu**"
      ]
    },
    {
      "cell_type": "code",
      "execution_count": null,
      "metadata": {
        "id": "DLSB91aitATV"
      },
      "outputs": [],
      "source": [
        "# !unzip  /content/drive/MyDrive/DatasetCELEB_train.zip\n",
        "!unzip  /content/drive/MyDrive/DatasetFF_train.zip"
      ]
    },
    {
      "cell_type": "markdown",
      "metadata": {
        "id": "BnbSPOhvp4D5"
      },
      "source": [
        "**1) Khai báo các thư viện sử dụng**"
      ]
    },
    {
      "cell_type": "code",
      "execution_count": null,
      "metadata": {
        "id": "LsjJfW-uqdqe"
      },
      "outputs": [],
      "source": [
        "import os\n",
        "import keras.backend as K\n",
        "from tensorflow.keras.preprocessing.image import ImageDataGenerator\n",
        "from tensorflow.keras.preprocessing import image_dataset_from_directory\n",
        "from tensorflow.keras.optimizers import Adam\n",
        "from tensorflow.keras.callbacks import EarlyStopping, ModelCheckpoint\n",
        "from tensorflow.keras.models import load_model, Model, Sequential\n",
        "from tensorflow.keras.layers import Input, Dense, Flatten, Dropout, InputSpec, Layer, BatchNormalization, Convolution2D\n",
        "from tensorflow.keras.layers import AveragePooling2D, AveragePooling1D, MaxPooling2D, MaxPooling1D\n",
        "from tensorflow_addons.layers import SpatialPyramidPooling2D"
      ]
    },
    {
      "cell_type": "markdown",
      "metadata": {
        "id": "6bXyYv64pk3y"
      },
      "source": [
        "\n",
        "\n",
        "> **1.1) Đối với DenseNet121 và Xception**\n",
        "\n"
      ]
    },
    {
      "cell_type": "code",
      "execution_count": null,
      "metadata": {
        "id": "rkzKNElPP-7m"
      },
      "outputs": [],
      "source": [
        "# from classification_models.tfkeras import Classifiers\n",
        "# DenseNet121, preprocess_input = Classifiers.get('densenet121')\n",
        "# get = DenseNet121(\n",
        "#     weights = 'imagenet',\n",
        "#     input_shape = (224,224, 3),\n",
        "#     include_top = False,\n",
        "# )\n",
        "\n",
        "# model = Sequential()\n",
        "# model.add(get)\n",
        "# model.add(SpatialPyramidPooling2D([1, 2, 4]))\n",
        "# model.add(Flatten(name=\"flatten\"))\n",
        "# model.add(Dense(units = 2, activation = 'softmax'))\n",
        "# model.summary()"
      ]
    },
    {
      "cell_type": "markdown",
      "metadata": {
        "id": "ZP4RwEOJqGTK"
      },
      "source": [
        "\n",
        "\n",
        "> **1.2) Đối với EfficientNetB0 đến EfficientNetB2**\n",
        "\n"
      ]
    },
    {
      "cell_type": "code",
      "execution_count": null,
      "metadata": {
        "colab": {
          "base_uri": "https://localhost:8080/"
        },
        "id": "R6x3ink9VGNK",
        "outputId": "d24d015b-947f-4d1b-fe02-9d2e0d92576c"
      },
      "outputs": [
        {
          "output_type": "stream",
          "name": "stdout",
          "text": [
            "Model: \"sequential_4\"\n",
            "_________________________________________________________________\n",
            " Layer (type)                Output Shape              Param #   \n",
            "=================================================================\n",
            " efficientnet-b2 (Functional  (None, 1408)             7768562   \n",
            " )                                                               \n",
            "                                                                 \n",
            " dense_10 (Dense)            (None, 512)               721408    \n",
            "                                                                 \n",
            " dropout_3 (Dropout)         (None, 512)               0         \n",
            "                                                                 \n",
            " dense_11 (Dense)            (None, 256)               131328    \n",
            "                                                                 \n",
            " dense_12 (Dense)            (None, 2)                 514       \n",
            "                                                                 \n",
            "=================================================================\n",
            "Total params: 8,621,812\n",
            "Trainable params: 8,554,244\n",
            "Non-trainable params: 67,568\n",
            "_________________________________________________________________\n"
          ]
        }
      ],
      "source": [
        "from efficientnet.tfkeras import EfficientNetB2 #EfficientNetB0, EfficientNetB1, EfficientNetB2\n",
        "efficient_net = EfficientNetB2(\n",
        "    weights = 'imagenet',\n",
        "    input_shape = (224, 224, 3),\n",
        "    include_top = False,\n",
        "    pooling = 'max'\n",
        ")\n",
        "\n",
        "model = Sequential()\n",
        "model.add(efficient_net)\n",
        "model.add(Dense(units = 512, activation = 'relu'))\n",
        "model.add(Dropout(0.5))\n",
        "model.add(Dense(units = 256, activation = 'relu'))\n",
        "model.add(Dense(units = 2, activation = 'softmax'))\n",
        "model.summary()"
      ]
    },
    {
      "cell_type": "code",
      "execution_count": null,
      "metadata": {
        "id": "ZsIqYGlSPZNh"
      },
      "outputs": [],
      "source": [
        "model.compile(optimizer = Adam(learning_rate=0.0001), loss='categorical_crossentropy', metrics=['accuracy'])"
      ]
    },
    {
      "cell_type": "markdown",
      "metadata": {
        "id": "PsEGJSzXqTWy"
      },
      "source": [
        "**2) Khởi tạo đường dẫn, checkpoint và callbacks**"
      ]
    },
    {
      "cell_type": "code",
      "execution_count": null,
      "metadata": {
        "id": "ZglRAgT1M1YX"
      },
      "outputs": [],
      "source": [
        "train_path = '/content/DatasetFF_train/train'\n",
        "val_path = '/content/DatasetFF_train/val'"
      ]
    },
    {
      "cell_type": "code",
      "execution_count": null,
      "metadata": {
        "colab": {
          "base_uri": "https://localhost:8080/"
        },
        "id": "MOyDpUQDPyMj",
        "outputId": "fdbfbd74-39ec-4098-acd5-08137009d6a3"
      },
      "outputs": [
        {
          "output_type": "stream",
          "name": "stdout",
          "text": [
            "Creating Directory: /content/drive/MyDrive/model_checkpoint/\n"
          ]
        }
      ],
      "source": [
        "checkpoint_filepath = '/content/drive/MyDrive/model_checkpoint/'\n",
        "print('Creating Directory: ' + checkpoint_filepath)\n",
        "os.makedirs(checkpoint_filepath, exist_ok=True)"
      ]
    },
    {
      "cell_type": "code",
      "execution_count": null,
      "metadata": {
        "id": "BsQnyB9pPjOj"
      },
      "outputs": [],
      "source": [
        "custom_callbacks = [\n",
        "    EarlyStopping(\n",
        "        monitor = 'val_loss',\n",
        "        mode = 'min',\n",
        "        patience = 10,\n",
        "        verbose = 1\n",
        "    ),\n",
        "    ModelCheckpoint(\n",
        "        filepath = os.path.join(checkpoint_filepath, 'EfficientNetB2_FF_again.h5'),\n",
        "        monitor = 'val_loss',\n",
        "        mode = 'min',\n",
        "        verbose = 1,\n",
        "        save_best_only = True\n",
        "    )\n",
        "]"
      ]
    },
    {
      "cell_type": "markdown",
      "metadata": {
        "id": "fgs4H3mFqoMi"
      },
      "source": [
        "**3) ImageDataGenerator**"
      ]
    },
    {
      "cell_type": "code",
      "execution_count": null,
      "metadata": {
        "colab": {
          "base_uri": "https://localhost:8080/"
        },
        "id": "e1lK04ojQBlM",
        "outputId": "33457cba-fc14-4732-9bdd-3afb39157c3c"
      },
      "outputs": [
        {
          "output_type": "stream",
          "name": "stdout",
          "text": [
            "Found 69169 images belonging to 2 classes.\n",
            "Found 17293 images belonging to 2 classes.\n"
          ]
        }
      ],
      "source": [
        "train_datagen = ImageDataGenerator(\n",
        "    rescale = 1/255,\n",
        "    rotation_range = 10,\n",
        "    width_shift_range = 0.1,\n",
        "    height_shift_range = 0.1,\n",
        "    shear_range = 0.2,\n",
        "    zoom_range = 0.1,\n",
        "    horizontal_flip = True,\n",
        "    fill_mode = 'nearest'\n",
        ")\n",
        "train_generator = train_datagen.flow_from_directory(\n",
        "    directory = train_path,\n",
        "    target_size = (224,224),\n",
        "    color_mode = \"rgb\",\n",
        "    class_mode = \"categorical\",\n",
        "    batch_size = 32,\n",
        "    shuffle = True\n",
        ")\n",
        "\n",
        "val_datagen = ImageDataGenerator(\n",
        "    rescale = 1/255    #rescale the tensor values to [0,1]\n",
        ")\n",
        "val_generator = val_datagen.flow_from_directory(\n",
        "    directory = val_path,\n",
        "    target_size = (224,224),\n",
        "    color_mode = \"rgb\",\n",
        "    class_mode = \"categorical\",\n",
        "    batch_size = 32,\n",
        "    shuffle = True\n",
        ")"
      ]
    },
    {
      "cell_type": "code",
      "execution_count": null,
      "metadata": {
        "colab": {
          "base_uri": "https://localhost:8080/"
        },
        "id": "Re2DgPM8r8K9",
        "outputId": "1ea6e094-509d-4660-be7e-15e6ef569e1e"
      },
      "outputs": [
        {
          "output_type": "execute_result",
          "data": {
            "text/plain": [
              "2162"
            ]
          },
          "metadata": {},
          "execution_count": 17
        }
      ],
      "source": [
        "len(train_generator)"
      ]
    },
    {
      "cell_type": "markdown",
      "metadata": {
        "id": "Ct0fCG-8qurM"
      },
      "source": [
        "**4) Huấn luyện**"
      ]
    },
    {
      "cell_type": "code",
      "execution_count": null,
      "metadata": {
        "id": "lTPPw0ztTf2T"
      },
      "outputs": [],
      "source": [
        "num_epochs = 20"
      ]
    },
    {
      "cell_type": "code",
      "execution_count": null,
      "metadata": {
        "colab": {
          "base_uri": "https://localhost:8080/"
        },
        "id": "bEDh0jubPs1U",
        "outputId": "acbef51e-deb5-481b-ec40-9338f0373724"
      },
      "outputs": [
        {
          "metadata": {
            "tags": null
          },
          "name": "stdout",
          "output_type": "stream",
          "text": [
            "Epoch 1/20\n",
            "2162/2162 [==============================] - ETA: 0s - loss: 0.4713 - accuracy: 0.7791\n",
            "Epoch 00001: val_loss improved from inf to 0.26939, saving model to /content/drive/MyDrive/model_checkpoint/EfficientNetB2_FF_again.h5\n"
          ]
        },
        {
          "metadata": {
            "tags": null
          },
          "name": "stderr",
          "output_type": "stream",
          "text": [
            "/usr/local/lib/python3.7/dist-packages/keras/engine/functional.py:1410: CustomMaskWarning: Custom mask layers require a config and must override get_config. When loading, the custom mask layer must be passed to the custom_objects argument.\n",
            "  layer_config = serialize_layer_fn(layer)\n"
          ]
        },
        {
          "output_type": "stream",
          "name": "stdout",
          "text": [
            "2162/2162 [==============================] - 913s 412ms/step - loss: 0.4713 - accuracy: 0.7791 - val_loss: 0.2694 - val_accuracy: 0.8865\n",
            "Epoch 2/20\n",
            "2162/2162 [==============================] - ETA: 0s - loss: 0.2061 - accuracy: 0.9174\n",
            "Epoch 00002: val_loss improved from 0.26939 to 0.15220, saving model to /content/drive/MyDrive/model_checkpoint/EfficientNetB2_FF_again.h5\n",
            "2162/2162 [==============================] - 885s 409ms/step - loss: 0.2061 - accuracy: 0.9174 - val_loss: 0.1522 - val_accuracy: 0.9434\n",
            "Epoch 3/20\n",
            "2162/2162 [==============================] - ETA: 0s - loss: 0.1442 - accuracy: 0.9451\n",
            "Epoch 00003: val_loss improved from 0.15220 to 0.10887, saving model to /content/drive/MyDrive/model_checkpoint/EfficientNetB2_FF_again.h5\n",
            "2162/2162 [==============================] - 887s 410ms/step - loss: 0.1442 - accuracy: 0.9451 - val_loss: 0.1089 - val_accuracy: 0.9577\n",
            "Epoch 4/20\n",
            "2162/2162 [==============================] - ETA: 0s - loss: 0.1114 - accuracy: 0.9565\n",
            "Epoch 00004: val_loss improved from 0.10887 to 0.09657, saving model to /content/drive/MyDrive/model_checkpoint/EfficientNetB2_FF_again.h5\n",
            "2162/2162 [==============================] - 889s 411ms/step - loss: 0.1114 - accuracy: 0.9565 - val_loss: 0.0966 - val_accuracy: 0.9617\n",
            "Epoch 5/20\n",
            "2162/2162 [==============================] - ETA: 0s - loss: 0.0895 - accuracy: 0.9648\n",
            "Epoch 00005: val_loss improved from 0.09657 to 0.09029, saving model to /content/drive/MyDrive/model_checkpoint/EfficientNetB2_FF_again.h5\n",
            "2162/2162 [==============================] - 882s 408ms/step - loss: 0.0895 - accuracy: 0.9648 - val_loss: 0.0903 - val_accuracy: 0.9648\n",
            "Epoch 6/20\n",
            "2162/2162 [==============================] - ETA: 0s - loss: 0.0762 - accuracy: 0.9706\n",
            "Epoch 00006: val_loss improved from 0.09029 to 0.07889, saving model to /content/drive/MyDrive/model_checkpoint/EfficientNetB2_FF_again.h5\n",
            "2162/2162 [==============================] - 886s 410ms/step - loss: 0.0762 - accuracy: 0.9706 - val_loss: 0.0789 - val_accuracy: 0.9681\n",
            "Epoch 7/20\n",
            "2162/2162 [==============================] - ETA: 0s - loss: 0.0674 - accuracy: 0.9746\n",
            "Epoch 00007: val_loss improved from 0.07889 to 0.06952, saving model to /content/drive/MyDrive/model_checkpoint/EfficientNetB2_FF_again.h5\n",
            "2162/2162 [==============================] - 892s 412ms/step - loss: 0.0674 - accuracy: 0.9746 - val_loss: 0.0695 - val_accuracy: 0.9710\n",
            "Epoch 8/20\n",
            "2162/2162 [==============================] - ETA: 0s - loss: 0.0592 - accuracy: 0.9771\n",
            "Epoch 00008: val_loss did not improve from 0.06952\n",
            "2162/2162 [==============================] - 889s 411ms/step - loss: 0.0592 - accuracy: 0.9771 - val_loss: 0.0758 - val_accuracy: 0.9685\n",
            "Epoch 9/20\n",
            "2162/2162 [==============================] - ETA: 0s - loss: 0.0534 - accuracy: 0.9794\n",
            "Epoch 00009: val_loss improved from 0.06952 to 0.05766, saving model to /content/drive/MyDrive/model_checkpoint/EfficientNetB2_FF_again.h5\n",
            "2162/2162 [==============================] - 888s 410ms/step - loss: 0.0534 - accuracy: 0.9794 - val_loss: 0.0577 - val_accuracy: 0.9792\n",
            "Epoch 10/20\n",
            "2162/2162 [==============================] - ETA: 0s - loss: 0.0468 - accuracy: 0.9811\n",
            "Epoch 00010: val_loss improved from 0.05766 to 0.05049, saving model to /content/drive/MyDrive/model_checkpoint/EfficientNetB2_FF_again.h5\n",
            "2162/2162 [==============================] - 886s 410ms/step - loss: 0.0468 - accuracy: 0.9811 - val_loss: 0.0505 - val_accuracy: 0.9789\n",
            "Epoch 11/20\n",
            "2162/2162 [==============================] - ETA: 0s - loss: 0.0449 - accuracy: 0.9829\n",
            "Epoch 00011: val_loss did not improve from 0.05049\n",
            "2162/2162 [==============================] - 888s 411ms/step - loss: 0.0449 - accuracy: 0.9829 - val_loss: 0.0687 - val_accuracy: 0.9740\n",
            "Epoch 12/20\n",
            "2162/2162 [==============================] - ETA: 0s - loss: 0.0403 - accuracy: 0.9841\n",
            "Epoch 00012: val_loss did not improve from 0.05049\n",
            "2162/2162 [==============================] - 883s 408ms/step - loss: 0.0403 - accuracy: 0.9841 - val_loss: 0.0694 - val_accuracy: 0.9737\n",
            "Epoch 13/20\n",
            "2162/2162 [==============================] - ETA: 0s - loss: 0.0374 - accuracy: 0.9854\n",
            "Epoch 00013: val_loss did not improve from 0.05049\n",
            "2162/2162 [==============================] - 879s 407ms/step - loss: 0.0374 - accuracy: 0.9854 - val_loss: 0.0573 - val_accuracy: 0.9763\n",
            "Epoch 14/20\n",
            "2162/2162 [==============================] - ETA: 0s - loss: 0.0350 - accuracy: 0.9864\n",
            "Epoch 00014: val_loss did not improve from 0.05049\n",
            "2162/2162 [==============================] - 880s 407ms/step - loss: 0.0350 - accuracy: 0.9864 - val_loss: 0.0800 - val_accuracy: 0.9747\n",
            "Epoch 15/20\n",
            "2162/2162 [==============================] - ETA: 0s - loss: 0.0330 - accuracy: 0.9871\n",
            "Epoch 00015: val_loss did not improve from 0.05049\n",
            "2162/2162 [==============================] - 884s 409ms/step - loss: 0.0330 - accuracy: 0.9871 - val_loss: 0.0700 - val_accuracy: 0.9750\n",
            "Epoch 16/20\n",
            "2162/2162 [==============================] - ETA: 0s - loss: 0.0321 - accuracy: 0.9874\n",
            "Epoch 00016: val_loss did not improve from 0.05049\n",
            "2162/2162 [==============================] - 882s 408ms/step - loss: 0.0321 - accuracy: 0.9874 - val_loss: 0.1303 - val_accuracy: 0.9580\n",
            "Epoch 17/20\n",
            "2162/2162 [==============================] - ETA: 0s - loss: 0.0303 - accuracy: 0.9881\n",
            "Epoch 00017: val_loss did not improve from 0.05049\n",
            "2162/2162 [==============================] - 877s 405ms/step - loss: 0.0303 - accuracy: 0.9881 - val_loss: 0.0728 - val_accuracy: 0.9748\n",
            "Epoch 18/20\n",
            "2162/2162 [==============================] - ETA: 0s - loss: 0.0281 - accuracy: 0.9890\n",
            "Epoch 00018: val_loss did not improve from 0.05049\n",
            "2162/2162 [==============================] - 875s 405ms/step - loss: 0.0281 - accuracy: 0.9890 - val_loss: 0.0709 - val_accuracy: 0.9753\n",
            "Epoch 19/20\n",
            "2162/2162 [==============================] - ETA: 0s - loss: 0.0275 - accuracy: 0.9891\n",
            "Epoch 00019: val_loss did not improve from 0.05049\n",
            "2162/2162 [==============================] - 880s 407ms/step - loss: 0.0275 - accuracy: 0.9891 - val_loss: 0.0617 - val_accuracy: 0.9769\n",
            "Epoch 20/20\n",
            "2162/2162 [==============================] - ETA: 0s - loss: 0.0259 - accuracy: 0.9898\n",
            "Epoch 00020: val_loss did not improve from 0.05049\n",
            "2162/2162 [==============================] - 883s 408ms/step - loss: 0.0259 - accuracy: 0.9898 - val_loss: 0.0645 - val_accuracy: 0.9784\n",
            "Epoch 00020: early stopping\n",
            "{'loss': [0.47134166955947876, 0.2061377465724945, 0.14421798288822174, 0.11135310679674149, 0.0895499512553215, 0.07622191309928894, 0.06738664209842682, 0.05920407176017761, 0.05341212451457977, 0.04683324322104454, 0.044910602271556854, 0.0403091199696064, 0.037356797605752945, 0.03497248515486717, 0.032982271164655685, 0.032071150839328766, 0.030310802161693573, 0.028088437393307686, 0.02747301012277603, 0.025855377316474915], 'accuracy': [0.7790917754173279, 0.9174051880836487, 0.9450910091400146, 0.9565123319625854, 0.9647963643074036, 0.9706226587295532, 0.97456955909729, 0.9770706295967102, 0.9793983101844788, 0.9811187386512756, 0.9828680753707886, 0.9840680360794067, 0.9854125380516052, 0.9864389896392822, 0.9871474504470825, 0.9874221086502075, 0.9881160855293274, 0.9889835119247437, 0.9891425371170044, 0.9897786378860474], 'val_loss': [0.26939401030540466, 0.1521960198879242, 0.1088726669549942, 0.09657450020313263, 0.0902877002954483, 0.07889322191476822, 0.06952089071273804, 0.07578631490468979, 0.05766142159700394, 0.05048828199505806, 0.06874910742044449, 0.06940818578004837, 0.05728137865662575, 0.07995953410863876, 0.06996424496173859, 0.13030076026916504, 0.07275867462158203, 0.07085730135440826, 0.06166956573724747, 0.06450313329696655], 'val_accuracy': [0.8865436911582947, 0.943387508392334, 0.9577285647392273, 0.9617186188697815, 0.9647834300994873, 0.9681373834609985, 0.971028745174408, 0.9685421586036682, 0.9791823029518127, 0.9788932204246521, 0.9739779233932495, 0.9737465977668762, 0.9762910008430481, 0.9746718406677246, 0.9750187993049622, 0.9580177068710327, 0.9747874736785889, 0.9753079414367676, 0.9769271016120911, 0.9783727526664734]}\n"
          ]
        }
      ],
      "source": [
        "H = model.fit(\n",
        "    train_generator,\n",
        "    epochs = num_epochs,\n",
        "    steps_per_epoch = len(train_generator),\n",
        "    validation_data = val_generator,\n",
        "    validation_steps = len(val_generator),\n",
        "    callbacks = custom_callbacks\n",
        ")\n",
        "print(H.history)"
      ]
    },
    {
      "cell_type": "markdown",
      "metadata": {
        "id": "dUh23xgXqym0"
      },
      "source": [
        "**5) Plot đồ thị train**"
      ]
    },
    {
      "cell_type": "code",
      "execution_count": null,
      "metadata": {
        "colab": {
          "base_uri": "https://localhost:8080/",
          "height": 295
        },
        "id": "Cc_rIC9Htudl",
        "outputId": "ba3c4a5e-9910-4bc9-b6c3-4776175d29ed"
      },
      "outputs": [
        {
          "output_type": "display_data",
          "data": {
            "image/png": "[encoded data removed]",
            "text/plain": [
              "<Figure size 432x288 with 1 Axes>"
            ]
          },
          "metadata": {
            "needs_background": "light"
          }
        }
      ],
      "source": [
        "import matplotlib.pyplot as plt\n",
        "acc = H.history['accuracy']\n",
        "val_acc = H.history['val_accuracy']\n",
        "loss = H.history['loss']\n",
        "val_loss = H.history['val_loss']\n",
        "\n",
        "import matplotlib.pyplot as plt\n",
        "epochs = range(1, len(acc) + 1)\n",
        "plt.plot(epochs, H.history['loss'], label='loss', marker=\"*\")\n",
        "plt.plot(epochs, H.history['val_loss'], label='val_loss', marker=\"+\")\n",
        "plt.xlabel('Epoch')\n",
        "plt.ylabel('Loss')\n",
        "# plt.ylim([0,1])\n",
        "plt.title('FF - SPP2_EfficientNetB2 - Loss')\n",
        "plt.legend()\n",
        "plt.show()"
      ]
    },
    {
      "cell_type": "code",
      "execution_count": null,
      "metadata": {
        "colab": {
          "base_uri": "https://localhost:8080/",
          "height": 295
        },
        "id": "0hu_1Ly7p3CS",
        "outputId": "b9cf5662-be62-441e-a61d-3c2f06a8229d"
      },
      "outputs": [
        {
          "output_type": "display_data",
          "data": {
            "image/png": "[encoded data removed]",
            "text/plain": [
              "<Figure size 432x288 with 1 Axes>"
            ]
          },
          "metadata": {
            "needs_background": "light"
          }
        }
      ],
      "source": [
        "plt.plot(epochs, H.history['accuracy'], label='accuracy', marker=\"*\")\n",
        "plt.plot(epochs, H.history['val_accuracy'], label='val_accuracy', marker=\"+\")\n",
        "plt.xlabel('Epoch')\n",
        "plt.ylabel('Accuracy')\n",
        "# plt.ylim([0,1])\n",
        "plt.title('FF - SPP2_EfficientNetB2 - Accuracy')\n",
        "plt.legend()\n",
        "plt.show()"
      ]
    },
    {
      "cell_type": "markdown",
      "metadata": {
        "id": "aY0JA_-hq6uK"
      },
      "source": [
        "\n",
        "\n",
        "---\n",
        "\n",
        "\n",
        "\n",
        "---\n",
        "\n",
        "\n",
        "\n",
        "---\n",
        "\n",
        "\n",
        "\n",
        "---\n",
        "\n",
        "\n",
        "\n",
        "---\n",
        "\n",
        "\n",
        "\n",
        "---\n",
        "**Phần test**\n",
        "\n",
        "\n",
        "---\n",
        "\n",
        "---\n",
        "\n",
        "\n",
        "\n",
        "---\n",
        "\n",
        "\n",
        "\n",
        "---\n",
        "\n",
        "\n",
        "\n",
        "---\n",
        "\n",
        "\n",
        "\n",
        "\n"
      ]
    },
    {
      "cell_type": "code",
      "execution_count": null,
      "metadata": {
        "id": "B21cxLn5QCxU"
      },
      "outputs": [],
      "source": [
        "!unzip /content/drive/MyDrive/DatasetFF_test.zip\n",
        "# !unzip /content/drive/MyDrive/DatasetCELEB_test.zip"
      ]
    },
    {
      "cell_type": "markdown",
      "metadata": {
        "id": "H-eBCe_MP794"
      },
      "source": [
        "**1) Khai báo thư viện**"
      ]
    },
    {
      "cell_type": "code",
      "execution_count": null,
      "metadata": {
        "id": "praR1HWrN9E-"
      },
      "outputs": [],
      "source": [
        "from tensorflow.keras.models import load_model\n",
        "from tensorflow.keras.preprocessing.image import ImageDataGenerator"
      ]
    },
    {
      "cell_type": "markdown",
      "metadata": {
        "id": "TPeVbjnCP_jk"
      },
      "source": [
        "**2) Khai báo tệp test**"
      ]
    },
    {
      "cell_type": "code",
      "execution_count": null,
      "metadata": {
        "colab": {
          "base_uri": "https://localhost:8080/"
        },
        "id": "QZ28PbM799m5",
        "outputId": "e928e1a2-7298-4a79-a305-ac02fe7f28e3"
      },
      "outputs": [
        {
          "output_type": "stream",
          "name": "stdout",
          "text": [
            "Found 49366 images belonging to 2 classes.\n"
          ]
        }
      ],
      "source": [
        "test_path = '/content/DatasetFF_test'\n",
        "test_datagen = ImageDataGenerator(\n",
        "    rescale = 1/255    #rescale the tensor values to [0,1]\n",
        ")\n",
        "\n",
        "test_generator = test_datagen.flow_from_directory(\n",
        "    directory = test_path,\n",
        "    classes=['real', 'fake'],\n",
        "    target_size = (224,224),\n",
        "    color_mode = \"rgb\",\n",
        "    class_mode = None,\n",
        "    batch_size = 1,\n",
        "    shuffle = False\n",
        ")"
      ]
    },
    {
      "cell_type": "markdown",
      "metadata": {
        "id": "j2XPSK1bQO2b"
      },
      "source": [
        "**3) Load mô hình đã học ở trên**"
      ]
    },
    {
      "cell_type": "code",
      "execution_count": null,
      "metadata": {
        "id": "hOxMtjENOxG4"
      },
      "outputs": [],
      "source": [
        "# new_model = load_model('/content/drive/MyDrive/model_checkpoint/SPP2_EfficientNetB0_FF_part2.h5',\n",
        "#                        custom_objects={'SpatialPyramidPooling2D': SpatialPyramidPooling2D})\n",
        "new_model = load_model('/content/drive/MyDrive/model_checkpoint/EfficientNetB2_FF_again.h5')"
      ]
    },
    {
      "cell_type": "markdown",
      "metadata": {
        "id": "rg8N9iK6RTIF"
      },
      "source": [
        "**4) Predict tệp dataset**"
      ]
    },
    {
      "cell_type": "code",
      "execution_count": null,
      "metadata": {
        "colab": {
          "base_uri": "https://localhost:8080/"
        },
        "id": "2On-97gF-Ruh",
        "outputId": "3f6fb932-9203-418d-a92b-621aa399d8a8"
      },
      "outputs": [
        {
          "output_type": "stream",
          "name": "stdout",
          "text": [
            "49366/49366 [==============================] - 1181s 24ms/step\n"
          ]
        }
      ],
      "source": [
        "test_generator.reset()\n",
        "preds = new_model.predict(test_generator, verbose = 1)"
      ]
    },
    {
      "cell_type": "code",
      "execution_count": null,
      "metadata": {
        "colab": {
          "base_uri": "https://localhost:8080/"
        },
        "id": "VG5V7HR8mmX1",
        "outputId": "7afbb329-9388-4ff0-d69b-036cd3224a73"
      },
      "outputs": [
        {
          "output_type": "stream",
          "name": "stdout",
          "text": [
            "[[2.7871735e-08 1.0000000e+00]\n",
            " [3.2510216e-04 9.9967492e-01]\n",
            " [1.2696608e-02 9.8730332e-01]\n",
            " ...\n",
            " [1.0000000e+00 4.1161106e-09]\n",
            " [1.0000000e+00 3.5226669e-11]\n",
            " [1.0000000e+00 1.6808286e-08]]\n"
          ]
        }
      ],
      "source": [
        "print(preds)"
      ]
    },
    {
      "cell_type": "markdown",
      "metadata": {
        "id": "8XHN_4zmSgRn"
      },
      "source": [
        "**5) Encoder True Labels (Nên kiểm tra nhãn trước, [0 1] thì set 'real, fake'**"
      ]
    },
    {
      "cell_type": "code",
      "execution_count": null,
      "metadata": {
        "id": "9CivKvCZ-caZ"
      },
      "outputs": [],
      "source": [
        "from keras.utils import np_utils\n",
        "from imutils import paths\n",
        "import numpy as np\n",
        "import pickle\n",
        "from sklearn.preprocessing import LabelEncoder\n",
        "import os\n",
        "\n",
        "path_reals = list(paths.list_images('/content/DatasetFF_test/real'))\n",
        "labels_real = []\n",
        "\n",
        "for path_real in path_reals:\n",
        "\tlabel2 = path_real.split(os.path.sep)[-2]\n",
        "\tlabels_real.append(label2)\n",
        " \n",
        "path_fakes = list(paths.list_images('/content/DatasetFF_test/fake'))\n",
        "labels_fake = []\n",
        "\n",
        "for path_fake in path_fakes:\n",
        "\tlabel3 = path_fake.split(os.path.sep)[-2]\n",
        "\tlabels_fake.append(label3)\n",
        " \n",
        "labels_test = labels_real + labels_fake"
      ]
    },
    {
      "cell_type": "code",
      "execution_count": null,
      "metadata": {
        "colab": {
          "base_uri": "https://localhost:8080/"
        },
        "id": "TB5rN5_3_C-5",
        "outputId": "46628e1a-7fd5-4488-df93-7137adebb4a9"
      },
      "outputs": [
        {
          "output_type": "stream",
          "name": "stdout",
          "text": [
            "real\n",
            "fake\n"
          ]
        }
      ],
      "source": [
        "print(labels_test[2])\n",
        "print(labels_test[30000])"
      ]
    },
    {
      "cell_type": "code",
      "execution_count": null,
      "metadata": {
        "id": "tQrIEBv__CWO"
      },
      "outputs": [],
      "source": [
        "le = LabelEncoder()\n",
        "labels_test = le.fit_transform(labels_test)\n",
        "labels_test = np_utils.to_categorical(labels_test, 2)\n",
        "\n",
        "f = open('le.pickle', \"wb\")\n",
        "f.write(pickle.dumps(le))\n",
        "f.close()"
      ]
    },
    {
      "cell_type": "code",
      "execution_count": null,
      "metadata": {
        "colab": {
          "base_uri": "https://localhost:8080/"
        },
        "id": "gUwPij4c5N3U",
        "outputId": "0e13b4cc-0985-4ecc-fe4f-af2594f7eed3"
      },
      "outputs": [
        {
          "output_type": "stream",
          "name": "stdout",
          "text": [
            "[0. 1.]\n",
            "[1. 0.]\n"
          ]
        }
      ],
      "source": [
        "print(labels_test[2])\n",
        "print(labels_test[30000])"
      ]
    },
    {
      "cell_type": "markdown",
      "metadata": {
        "id": "M2FpYmDESY0g"
      },
      "source": [
        "**6) Classification Report**"
      ]
    },
    {
      "cell_type": "code",
      "execution_count": null,
      "metadata": {
        "colab": {
          "base_uri": "https://localhost:8080/"
        },
        "id": "NGOOrD_v-icB",
        "outputId": "1decc35b-d038-44f9-ffe3-99381db962fd"
      },
      "outputs": [
        {
          "output_type": "stream",
          "name": "stdout",
          "text": [
            "              precision    recall  f1-score   support\n",
            "\n",
            "        fake    0.93299   0.79957   0.86114     26313\n",
            "        real    0.80333   0.93446   0.86394     23053\n",
            "\n",
            "    accuracy                        0.86256     49366\n",
            "   macro avg    0.86816   0.86701   0.86254     49366\n",
            "weighted avg    0.87244   0.86256   0.86245     49366\n",
            "\n"
          ]
        }
      ],
      "source": [
        "from sklearn.metrics import classification_report\n",
        "\n",
        "test = np.argmin(labels_test, axis=1)\n",
        "pred = np.argmin(preds, axis=1)\n",
        "print(classification_report(test, pred, target_names=le.classes_, digits = 5))"
      ]
    },
    {
      "cell_type": "code",
      "execution_count": null,
      "metadata": {
        "colab": {
          "base_uri": "https://localhost:8080/"
        },
        "id": "YNsriWJmVz1_",
        "outputId": "b9738706-af81-40ac-ea5d-dd0d43bfbbb5"
      },
      "outputs": [
        {
          "output_type": "stream",
          "name": "stdout",
          "text": [
            "[0 0 0 ... 1 1 1]\n",
            "[0 0 0 ... 1 1 1]\n"
          ]
        }
      ],
      "source": [
        "print(test)\n",
        "print(pred)"
      ]
    },
    {
      "cell_type": "markdown",
      "metadata": {
        "id": "SHKgYi3rSRX3"
      },
      "source": [
        "**7) Confussion Matrix**"
      ]
    },
    {
      "cell_type": "code",
      "execution_count": null,
      "metadata": {
        "colab": {
          "base_uri": "https://localhost:8080/",
          "height": 346
        },
        "id": "lXRZViJp-vWB",
        "outputId": "00fda2e1-0a9e-4794-dcc0-41b4d68c781a"
      },
      "outputs": [
        {
          "output_type": "stream",
          "name": "stdout",
          "text": [
            "[[21039  5274]\n",
            " [ 1511 21542]]\n"
          ]
        },
        {
          "output_type": "display_data",
          "data": {
            "image/png": "[encoded data removed]",
            "text/plain": [
              "<Figure size 432x288 with 2 Axes>"
            ]
          },
          "metadata": {
            "needs_background": "light"
          }
        }
      ],
      "source": [
        "from sklearn.metrics import confusion_matrix\n",
        "cnf_matrix = confusion_matrix(test, pred)\n",
        "print(cnf_matrix)\n",
        "import matplotlib.pyplot as plt\n",
        "import itertools\n",
        "def plot_confusion_matrix(cm, classes,\n",
        "                          normalize=False,\n",
        "                          title='Confusion matrix',\n",
        "                          cmap=plt.cm.Blues):\n",
        "    if normalize:\n",
        "        cm = cm.astype('float') / cm.sum(axis=1, keepdims = True)\n",
        "\n",
        "    plt.imshow(cm, interpolation='nearest', cmap=cmap)\n",
        "    plt.title(title)\n",
        "    plt.colorbar()\n",
        "    tick_marks = np.arange(len(classes))\n",
        "    plt.xticks(tick_marks, classes, rotation=45)\n",
        "    plt.yticks(tick_marks, classes)\n",
        "\n",
        "    fmt = '.5f' if normalize else 'd'\n",
        "    thresh = cm.max() / 2.\n",
        "    for i, j in itertools.product(range(cm.shape[0]), range(cm.shape[1])):\n",
        "        plt.text(j, i, format(cm[i, j], fmt), horizontalalignment=\"center\",\n",
        "                 color=\"white\" if cm[i, j] > thresh else \"black\")\n",
        "    plt.tight_layout()\n",
        "    plt.ylabel('True label')\n",
        "    plt.xlabel('Predicted label')\n",
        "  \n",
        "class_names = ['real', 'fake']\n",
        "plt.figure()\n",
        "plot_confusion_matrix(cnf_matrix, classes=class_names,\n",
        "                      title='Confusion matrix, without normalization')\n",
        "plt.show()"
      ]
    },
    {
      "cell_type": "markdown",
      "metadata": {
        "id": "01hmPSaeTEIH"
      },
      "source": [
        "**8) EER, TPR, FPR**"
      ]
    },
    {
      "cell_type": "code",
      "execution_count": null,
      "metadata": {
        "colab": {
          "base_uri": "https://localhost:8080/"
        },
        "id": "7O-43sSwo2pD",
        "outputId": "c366fdd1-3703-475d-b178-f0bce6dea442"
      },
      "outputs": [
        {
          "output_type": "stream",
          "name": "stdout",
          "text": [
            "tpr =  [0.         0.93445539 1.        ]\n",
            "fpr =  [0.         0.20043325 1.        ]\n",
            "eer =  0.06554461458378524\n"
          ]
        }
      ],
      "source": [
        "from sklearn.metrics import auc, roc_curve\n",
        "fpr, tpr, _ = roc_curve(test, pred, pos_label=1)\n",
        "\n",
        "fnr = 1 - tpr\n",
        "fpr_eer = fpr[np.nanargmin(np.absolute((fnr - fpr)))]\n",
        "fnr_eer = fnr[np.nanargmin(np.absolute((fnr - fpr)))]\n",
        "eer = min(fpr_eer, fnr_eer)\n",
        "print(\"tpr = \", tpr)\n",
        "print(\"fpr = \", fpr)\n",
        "print(\"eer = \", eer)"
      ]
    },
    {
      "cell_type": "markdown",
      "metadata": {
        "id": "AqYfJY9vRe29"
      },
      "source": [
        "**9) Đồ thị ROC**"
      ]
    },
    {
      "cell_type": "code",
      "execution_count": null,
      "metadata": {
        "colab": {
          "base_uri": "https://localhost:8080/"
        },
        "id": "-q_yZyYPGOsZ",
        "outputId": "5a71c2b3-34b3-4e19-9e22-197b6223a637"
      },
      "outputs": [
        {
          "output_type": "stream",
          "name": "stdout",
          "text": [
            "[2.7871735e-08 3.2510216e-04 1.2696608e-02 ... 1.0000000e+00 1.0000000e+00\n",
            " 1.0000000e+00]\n"
          ]
        }
      ],
      "source": [
        "test = np.argmin(labels_test, axis=1)\n",
        "true = preds[:, 0]\n",
        "print(true)"
      ]
    },
    {
      "cell_type": "code",
      "execution_count": null,
      "metadata": {
        "colab": {
          "base_uri": "https://localhost:8080/",
          "height": 330
        },
        "id": "9sn3XdRlw-vw",
        "outputId": "535db873-63af-4d4f-c9e8-0d0849425226"
      },
      "outputs": [
        {
          "output_type": "stream",
          "name": "stdout",
          "text": [
            "threshold at eer =  0.86851925\n",
            "eer =  0.11351803291148861\n"
          ]
        },
        {
          "output_type": "display_data",
          "data": {
            "image/png": "[encoded data removed]",
            "text/plain": [
              "<Figure size 432x288 with 1 Axes>"
            ]
          },
          "metadata": {
            "needs_background": "light"
          }
        }
      ],
      "source": [
        "from sklearn.metrics import auc, roc_curve\n",
        "import matplotlib.pyplot as plt\n",
        "from itertools import cycle\n",
        "\n",
        "fpr, tpr, threshold = roc_curve(test, true, pos_label=1)\n",
        "fnr = 1 - tpr\n",
        "fpr_eer = fpr[np.nanargmin(np.absolute((fnr - fpr)))]\n",
        "fnr_eer = fnr[np.nanargmin(np.absolute((fnr - fpr)))]\n",
        "eer_threshold = threshold[np.nanargmin(np.absolute((fnr - fpr)))]\n",
        "eer = min(fpr_eer, fnr_eer)\n",
        "print(\"threshold at eer = \", eer_threshold)\n",
        "print(\"eer = \", eer)\n",
        "\n",
        "plt.figure()\n",
        "lw = 2\n",
        "plt.plot(fpr, tpr, color='darkorange',\n",
        "         lw=lw, label='ROC curve (area = %0.4f)' % auc(fpr, tpr))\n",
        "plt.plot([0, 1], [0, 1], color='navy', lw=lw, linestyle='--')\n",
        "plt.xlabel('False Positive Rate')\n",
        "plt.ylabel('True Positive Rate')\n",
        "plt.title('ROC')\n",
        "plt.legend(loc=\"lower right\")\n",
        "plt.show()"
      ]
    },
    {
      "cell_type": "markdown",
      "source": [
        "**10) Tính TPR 1%, TPR 0.5%, EER, EER_Threshold**"
      ],
      "metadata": {
        "id": "7o9JNy2qyWLF"
      }
    },
    {
      "cell_type": "code",
      "execution_count": null,
      "metadata": {
        "id": "-lczGgCuI_C6"
      },
      "outputs": [],
      "source": [
        "import numpy as np\n",
        "\n",
        "from scipy import interpolate\n",
        "\n",
        "import matplotlib.pyplot as plt\n",
        "\n",
        "from sklearn.metrics import roc_curve\n",
        "from sklearn.metrics import roc_auc_score\n",
        "\n",
        "\n",
        "def cal_metric(groundTruth, predicted):\n",
        "    fpr, tpr, thresholds = roc_curve(groundTruth, predicted)\n",
        "    y = (tpr)\n",
        "    x = (fpr)\n",
        "    z = tpr + fpr\n",
        "    tpr = tpr.reshape((tpr.shape[0], 1))\n",
        "    fpr = fpr.reshape((fpr.shape[0], 1))\n",
        "    xnew = np.arange(0, 1, 0.0000001)\n",
        "    func = interpolate.interp1d(x, y)\n",
        "    # frr = fpr\n",
        "    ynew = func(xnew)\n",
        "\n",
        "    znew = abs(xnew + ynew - 1)\n",
        "\n",
        "    eer = xnew[np.argmin(znew)]\n",
        "    print('EER =', eer)\n",
        "    # interpolate thresholds\n",
        "    func_2 = interpolate.interp1d(x, thresholds)\n",
        "    thresholds_new = func_2(xnew)\n",
        "\n",
        "    print(\"Threshold at eer: {}\".format(thresholds_new[np.argmin(znew)]))\n",
        "\n",
        "    FPR = {\"TPR(1.%)\": 0.01, \"TPR(.5%)\": 0.005}\n",
        "\n",
        "    TPRs = {\"TPR(1.%)\": 0.01, \"TPR(.5%)\": 0.005}\n",
        "\n",
        "    for i, (key, value) in enumerate(FPR.items()):\n",
        "        index = np.argwhere(xnew == value)\n",
        "\n",
        "        score = ynew[index]\n",
        "\n",
        "        TPRs[key] = float(np.squeeze(score))\n",
        "    #\t    print(key, score)\n",
        "\n",
        "    auc = roc_auc_score(groundTruth, predicted)\n",
        "    print('AUC = ', auc)\n",
        "    print ('TPRs = ', TPRs)\n",
        "    if 1:\n",
        "        plt.plot(xnew, ynew)\n",
        "        plt.title(\"ROC curve\")\n",
        "        plt.xlabel(\"FPR\")\n",
        "        plt.ylabel(\"TPR\")\n",
        "        plt.show()\n",
        "\n",
        "    return eer, TPRs, auc, {'x': xnew, 'y': ynew}"
      ]
    },
    {
      "cell_type": "code",
      "execution_count": null,
      "metadata": {
        "colab": {
          "base_uri": "https://localhost:8080/",
          "height": 486
        },
        "id": "8NsybneCJCjG",
        "outputId": "47196b58-a978-46ff-d8f7-76dc6f5906cd"
      },
      "outputs": [
        {
          "output_type": "stream",
          "name": "stdout",
          "text": [
            "EER = 0.1135644\n",
            "Threshold at eer: 0.8684605485496958\n",
            "AUC =  0.9600444952938663\n",
            "TPRs =  {'TPR(1.%)': 0.7087071097037262, 'TPR(.5%)': 0.6437396434303562}\n"
          ]
        },
        {
          "output_type": "display_data",
          "data": {
            "image/png": "[encoded data removed]",
            "text/plain": [
              "<Figure size 432x288 with 1 Axes>"
            ]
          },
          "metadata": {
            "needs_background": "light"
          }
        },
        {
          "output_type": "execute_result",
          "data": {
            "text/plain": [
              "(0.1135644,\n",
              " {'TPR(.5%)': 0.6437396434303562, 'TPR(1.%)': 0.7087071097037262},\n",
              " 0.9600444952938663,\n",
              " {'x': array([0.000000e+00, 1.000000e-07, 2.000000e-07, ..., 9.999997e-01,\n",
              "         9.999998e-01, 9.999999e-01]),\n",
              "  'y': array([0.00000000e+00, 6.17450223e-05, 1.23490045e-04, ...,\n",
              "         9.99999999e-01, 9.99999999e-01, 1.00000000e+00])})"
            ]
          },
          "metadata": {},
          "execution_count": 44
        }
      ],
      "source": [
        "cal_metric(test, true)"
      ]
    }
  ],
  "metadata": {
    "accelerator": "GPU",
    "colab": {
      "collapsed_sections": [],
      "machine_shape": "hm",
      "name": "train_model_cnn.ipynb",
      "provenance": [],
      "authorship_tag": "ABX9TyOUBgthI7glzVG2rP1b+hRQ",
      "include_colab_link": true
    },
    "kernelspec": {
      "display_name": "Python 3",
      "name": "python3"
    },
    "language_info": {
      "name": "python"
    }
  },
  "nbformat": 4,
  "nbformat_minor": 0
}